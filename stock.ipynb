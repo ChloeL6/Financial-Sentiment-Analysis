{
 "cells": [
  {
   "cell_type": "code",
   "execution_count": 11,
   "metadata": {},
   "outputs": [],
   "source": [
    "import pandas as pd\n",
    "import re\n",
    "from datetime import datetime\n",
    "import yfinance as yf\n",
    "import os \n",
    "\n",
    "DATA_DIR = 'dsa_airflow/data'\n",
    "stock_file = 'raw_stock.csv'"
   ]
  },
  {
   "cell_type": "code",
   "execution_count": 21,
   "metadata": {},
   "outputs": [],
   "source": [
    "# get historical market data\n",
    "# https://stackoverflow.com/questions/44225771/scraping-historical-data-from-yahoo-finance-with-python\n",
    "\n",
    "# create yf obj\n",
    "tsla = yf.Ticker(\"TSLA\")\n",
    "\n",
    "# get 1mo history\n",
    "hist = tsla.history(period=\"1mo\")\n",
    "\n",
    "# create dataframe\n",
    "df = pd.DataFrame(hist)\n",
    "\n",
    "# reset index for date column\n",
    "df = df.reset_index()\n",
    "\n",
    "# # write to file\n",
    "# df.to_csv(os.path.join(DATA_DIR, 'raw_stock.csv'), header=True, index=False)\n",
    "# df = pd.read_csv(os.path.join(DATA_DIR, stock_file), header=0)\n",
    "# print(\"saved to file\")"
   ]
  },
  {
   "cell_type": "code",
   "execution_count": 22,
   "metadata": {},
   "outputs": [
    {
     "data": {
      "text/html": [
       "<div>\n",
       "<style scoped>\n",
       "    .dataframe tbody tr th:only-of-type {\n",
       "        vertical-align: middle;\n",
       "    }\n",
       "\n",
       "    .dataframe tbody tr th {\n",
       "        vertical-align: top;\n",
       "    }\n",
       "\n",
       "    .dataframe thead th {\n",
       "        text-align: right;\n",
       "    }\n",
       "</style>\n",
       "<table border=\"1\" class=\"dataframe\">\n",
       "  <thead>\n",
       "    <tr style=\"text-align: right;\">\n",
       "      <th></th>\n",
       "      <th>Date</th>\n",
       "      <th>Open</th>\n",
       "      <th>High</th>\n",
       "      <th>Low</th>\n",
       "      <th>Close</th>\n",
       "      <th>Volume</th>\n",
       "      <th>Dividends</th>\n",
       "      <th>Stock Splits</th>\n",
       "    </tr>\n",
       "  </thead>\n",
       "  <tbody>\n",
       "    <tr>\n",
       "      <th>0</th>\n",
       "      <td>2023-02-08 00:00:00-05:00</td>\n",
       "      <td>196.100006</td>\n",
       "      <td>203.000000</td>\n",
       "      <td>194.309998</td>\n",
       "      <td>201.289993</td>\n",
       "      <td>180673600</td>\n",
       "      <td>0.0</td>\n",
       "      <td>0.0</td>\n",
       "    </tr>\n",
       "    <tr>\n",
       "      <th>1</th>\n",
       "      <td>2023-02-09 00:00:00-05:00</td>\n",
       "      <td>207.779999</td>\n",
       "      <td>214.000000</td>\n",
       "      <td>204.770004</td>\n",
       "      <td>207.320007</td>\n",
       "      <td>215431400</td>\n",
       "      <td>0.0</td>\n",
       "      <td>0.0</td>\n",
       "    </tr>\n",
       "    <tr>\n",
       "      <th>2</th>\n",
       "      <td>2023-02-10 00:00:00-05:00</td>\n",
       "      <td>202.229996</td>\n",
       "      <td>206.199997</td>\n",
       "      <td>192.889999</td>\n",
       "      <td>196.889999</td>\n",
       "      <td>204193800</td>\n",
       "      <td>0.0</td>\n",
       "      <td>0.0</td>\n",
       "    </tr>\n",
       "    <tr>\n",
       "      <th>3</th>\n",
       "      <td>2023-02-13 00:00:00-05:00</td>\n",
       "      <td>194.419998</td>\n",
       "      <td>196.300003</td>\n",
       "      <td>187.610001</td>\n",
       "      <td>194.639999</td>\n",
       "      <td>172475500</td>\n",
       "      <td>0.0</td>\n",
       "      <td>0.0</td>\n",
       "    </tr>\n",
       "    <tr>\n",
       "      <th>4</th>\n",
       "      <td>2023-02-14 00:00:00-05:00</td>\n",
       "      <td>191.940002</td>\n",
       "      <td>209.820007</td>\n",
       "      <td>189.440002</td>\n",
       "      <td>209.250000</td>\n",
       "      <td>216455700</td>\n",
       "      <td>0.0</td>\n",
       "      <td>0.0</td>\n",
       "    </tr>\n",
       "  </tbody>\n",
       "</table>\n",
       "</div>"
      ],
      "text/plain": [
       "                       Date        Open        High         Low       Close  \\\n",
       "0 2023-02-08 00:00:00-05:00  196.100006  203.000000  194.309998  201.289993   \n",
       "1 2023-02-09 00:00:00-05:00  207.779999  214.000000  204.770004  207.320007   \n",
       "2 2023-02-10 00:00:00-05:00  202.229996  206.199997  192.889999  196.889999   \n",
       "3 2023-02-13 00:00:00-05:00  194.419998  196.300003  187.610001  194.639999   \n",
       "4 2023-02-14 00:00:00-05:00  191.940002  209.820007  189.440002  209.250000   \n",
       "\n",
       "      Volume  Dividends  Stock Splits  \n",
       "0  180673600        0.0           0.0  \n",
       "1  215431400        0.0           0.0  \n",
       "2  204193800        0.0           0.0  \n",
       "3  172475500        0.0           0.0  \n",
       "4  216455700        0.0           0.0  "
      ]
     },
     "execution_count": 22,
     "metadata": {},
     "output_type": "execute_result"
    }
   ],
   "source": [
    "df.head(5)"
   ]
  },
  {
   "cell_type": "code",
   "execution_count": 23,
   "metadata": {},
   "outputs": [
    {
     "data": {
      "text/html": [
       "<div>\n",
       "<style scoped>\n",
       "    .dataframe tbody tr th:only-of-type {\n",
       "        vertical-align: middle;\n",
       "    }\n",
       "\n",
       "    .dataframe tbody tr th {\n",
       "        vertical-align: top;\n",
       "    }\n",
       "\n",
       "    .dataframe thead th {\n",
       "        text-align: right;\n",
       "    }\n",
       "</style>\n",
       "<table border=\"1\" class=\"dataframe\">\n",
       "  <thead>\n",
       "    <tr style=\"text-align: right;\">\n",
       "      <th></th>\n",
       "      <th>date</th>\n",
       "      <th>open</th>\n",
       "      <th>high</th>\n",
       "      <th>low</th>\n",
       "      <th>close</th>\n",
       "      <th>volume</th>\n",
       "    </tr>\n",
       "  </thead>\n",
       "  <tbody>\n",
       "    <tr>\n",
       "      <th>0</th>\n",
       "      <td>2023-02-08 00:00:00-05:00</td>\n",
       "      <td>196.100006</td>\n",
       "      <td>203.000000</td>\n",
       "      <td>194.309998</td>\n",
       "      <td>201.289993</td>\n",
       "      <td>180673600</td>\n",
       "    </tr>\n",
       "    <tr>\n",
       "      <th>1</th>\n",
       "      <td>2023-02-09 00:00:00-05:00</td>\n",
       "      <td>207.779999</td>\n",
       "      <td>214.000000</td>\n",
       "      <td>204.770004</td>\n",
       "      <td>207.320007</td>\n",
       "      <td>215431400</td>\n",
       "    </tr>\n",
       "    <tr>\n",
       "      <th>2</th>\n",
       "      <td>2023-02-10 00:00:00-05:00</td>\n",
       "      <td>202.229996</td>\n",
       "      <td>206.199997</td>\n",
       "      <td>192.889999</td>\n",
       "      <td>196.889999</td>\n",
       "      <td>204193800</td>\n",
       "    </tr>\n",
       "    <tr>\n",
       "      <th>3</th>\n",
       "      <td>2023-02-13 00:00:00-05:00</td>\n",
       "      <td>194.419998</td>\n",
       "      <td>196.300003</td>\n",
       "      <td>187.610001</td>\n",
       "      <td>194.639999</td>\n",
       "      <td>172475500</td>\n",
       "    </tr>\n",
       "    <tr>\n",
       "      <th>4</th>\n",
       "      <td>2023-02-14 00:00:00-05:00</td>\n",
       "      <td>191.940002</td>\n",
       "      <td>209.820007</td>\n",
       "      <td>189.440002</td>\n",
       "      <td>209.250000</td>\n",
       "      <td>216455700</td>\n",
       "    </tr>\n",
       "  </tbody>\n",
       "</table>\n",
       "</div>"
      ],
      "text/plain": [
       "                       date        open        high         low       close  \\\n",
       "0 2023-02-08 00:00:00-05:00  196.100006  203.000000  194.309998  201.289993   \n",
       "1 2023-02-09 00:00:00-05:00  207.779999  214.000000  204.770004  207.320007   \n",
       "2 2023-02-10 00:00:00-05:00  202.229996  206.199997  192.889999  196.889999   \n",
       "3 2023-02-13 00:00:00-05:00  194.419998  196.300003  187.610001  194.639999   \n",
       "4 2023-02-14 00:00:00-05:00  191.940002  209.820007  189.440002  209.250000   \n",
       "\n",
       "      volume  \n",
       "0  180673600  \n",
       "1  215431400  \n",
       "2  204193800  \n",
       "3  172475500  \n",
       "4  216455700  "
      ]
     },
     "execution_count": 23,
     "metadata": {},
     "output_type": "execute_result"
    }
   ],
   "source": [
    "# lower cols name\n",
    "df.columns = df.columns.str.lower()\n",
    "\n",
    "# drop columns\n",
    "df = df.drop(columns=[\"dividends\", \"stock splits\"]) \n",
    "\n",
    "df.head(5)"
   ]
  },
  {
   "cell_type": "code",
   "execution_count": 24,
   "metadata": {},
   "outputs": [
    {
     "data": {
      "text/html": [
       "<div>\n",
       "<style scoped>\n",
       "    .dataframe tbody tr th:only-of-type {\n",
       "        vertical-align: middle;\n",
       "    }\n",
       "\n",
       "    .dataframe tbody tr th {\n",
       "        vertical-align: top;\n",
       "    }\n",
       "\n",
       "    .dataframe thead th {\n",
       "        text-align: right;\n",
       "    }\n",
       "</style>\n",
       "<table border=\"1\" class=\"dataframe\">\n",
       "  <thead>\n",
       "    <tr style=\"text-align: right;\">\n",
       "      <th></th>\n",
       "      <th>date</th>\n",
       "      <th>open</th>\n",
       "      <th>high</th>\n",
       "      <th>low</th>\n",
       "      <th>close</th>\n",
       "      <th>volume</th>\n",
       "    </tr>\n",
       "  </thead>\n",
       "  <tbody>\n",
       "    <tr>\n",
       "      <th>0</th>\n",
       "      <td>2023-02-08</td>\n",
       "      <td>196.100006</td>\n",
       "      <td>203.000000</td>\n",
       "      <td>194.309998</td>\n",
       "      <td>201.289993</td>\n",
       "      <td>180673600</td>\n",
       "    </tr>\n",
       "    <tr>\n",
       "      <th>1</th>\n",
       "      <td>2023-02-09</td>\n",
       "      <td>207.779999</td>\n",
       "      <td>214.000000</td>\n",
       "      <td>204.770004</td>\n",
       "      <td>207.320007</td>\n",
       "      <td>215431400</td>\n",
       "    </tr>\n",
       "    <tr>\n",
       "      <th>2</th>\n",
       "      <td>2023-02-10</td>\n",
       "      <td>202.229996</td>\n",
       "      <td>206.199997</td>\n",
       "      <td>192.889999</td>\n",
       "      <td>196.889999</td>\n",
       "      <td>204193800</td>\n",
       "    </tr>\n",
       "    <tr>\n",
       "      <th>3</th>\n",
       "      <td>2023-02-13</td>\n",
       "      <td>194.419998</td>\n",
       "      <td>196.300003</td>\n",
       "      <td>187.610001</td>\n",
       "      <td>194.639999</td>\n",
       "      <td>172475500</td>\n",
       "    </tr>\n",
       "    <tr>\n",
       "      <th>4</th>\n",
       "      <td>2023-02-14</td>\n",
       "      <td>191.940002</td>\n",
       "      <td>209.820007</td>\n",
       "      <td>189.440002</td>\n",
       "      <td>209.250000</td>\n",
       "      <td>216455700</td>\n",
       "    </tr>\n",
       "  </tbody>\n",
       "</table>\n",
       "</div>"
      ],
      "text/plain": [
       "         date        open        high         low       close     volume\n",
       "0  2023-02-08  196.100006  203.000000  194.309998  201.289993  180673600\n",
       "1  2023-02-09  207.779999  214.000000  204.770004  207.320007  215431400\n",
       "2  2023-02-10  202.229996  206.199997  192.889999  196.889999  204193800\n",
       "3  2023-02-13  194.419998  196.300003  187.610001  194.639999  172475500\n",
       "4  2023-02-14  191.940002  209.820007  189.440002  209.250000  216455700"
      ]
     },
     "execution_count": 24,
     "metadata": {},
     "output_type": "execute_result"
    }
   ],
   "source": [
    "# only save the date \n",
    "df['date'] = df['date'].apply(lambda x: x.strftime('%Y-%m-%d'))\n",
    "\n",
    "df.head(5)"
   ]
  },
  {
   "cell_type": "code",
   "execution_count": 25,
   "metadata": {},
   "outputs": [
    {
     "data": {
      "text/plain": [
       "date       object\n",
       "open      float64\n",
       "high      float64\n",
       "low       float64\n",
       "close     float64\n",
       "volume      int64\n",
       "dtype: object"
      ]
     },
     "execution_count": 25,
     "metadata": {},
     "output_type": "execute_result"
    }
   ],
   "source": [
    "df.dtypes"
   ]
  },
  {
   "cell_type": "code",
   "execution_count": 26,
   "metadata": {},
   "outputs": [
    {
     "data": {
      "text/plain": [
       "date      datetime64[ns]\n",
       "open             float64\n",
       "high             float64\n",
       "low              float64\n",
       "close            float64\n",
       "volume             int64\n",
       "day                int64\n",
       "month              int64\n",
       "year               int64\n",
       "dtype: object"
      ]
     },
     "execution_count": 26,
     "metadata": {},
     "output_type": "execute_result"
    }
   ],
   "source": [
    "df[['day', 'month', 'year']] = df.date.str.split(\"-\", expand=True)\n",
    "\n",
    "df = df.astype({'date': 'datetime64[ns]', 'day': 'int64', 'month': 'int64', 'year':'int64'}) \n",
    "\n",
    "df.dtypes"
   ]
  },
  {
   "cell_type": "code",
   "execution_count": 29,
   "metadata": {},
   "outputs": [],
   "source": [
    "from google.cloud import bigquery"
   ]
  },
  {
   "cell_type": "code",
   "execution_count": 30,
   "metadata": {},
   "outputs": [
    {
     "name": "stdout",
     "output_type": "stream",
     "text": [
      "Created dataset deb-01-372112.SIA_Stocks\n"
     ]
    }
   ],
   "source": [
    "PROJECT_ID = 'deb-01-372112'\n",
    "DATASET_ID = 'SIA_Stocks'\n",
    "\n",
    "# create bigquery client\n",
    "client = bigquery.Client()\n",
    "\n",
    "# set dataset_id\n",
    "dataset_id = \"{}.SIA_Stocks\".format(client.project)\n",
    "\n",
    "# Construct a full Dataset object to send to the API.\n",
    "dataset = bigquery.Dataset(dataset_id)\n",
    "dataset.location = \"US\"\n",
    "dataset = client.create_dataset(dataset, exists_ok=True)\n",
    "\n",
    "print(\"Created dataset {}.{}\".format(client.project, dataset.dataset_id))\n"
   ]
  },
  {
   "cell_type": "code",
   "execution_count": 31,
   "metadata": {},
   "outputs": [],
   "source": [
    "def load_table(\n",
    "    df: pd.DataFrame, \n",
    "    client: bigquery.Client, \n",
    "    table_name: str, \n",
    "    schema: bigquery.SchemaField,\n",
    "    create_disposition: str = 'CREATE_IF_NEEDED', \n",
    "    write_disposition: str = 'WRITE_TRUNCATE'\n",
    "    ) -> None:\n",
    "    \n",
    "    job_config = bigquery.LoadJobConfig(\n",
    "        create_disposition=create_disposition,\n",
    "        write_disposition=write_disposition,\n",
    "        schema=schema\n",
    "    )\n",
    "    \n",
    "    job = client.load_table_from_dataframe(df, destination=table_name, job_config=job_config)\n",
    "    job.result()        # wait for the job to finish\n"
   ]
  },
  {
   "cell_type": "code",
   "execution_count": 32,
   "metadata": {},
   "outputs": [
    {
     "name": "stdout",
     "output_type": "stream",
     "text": [
      "Created table deb-01-372112.SIA_Stocks.historial_stock_prices\n"
     ]
    }
   ],
   "source": [
    "# create table\n",
    "table_id = \"{}.SIA_Stocks.historial_stock_prices\".format(client.project)\n",
    "\n",
    "schema = [\n",
    "    bigquery.SchemaField(\"date\", \"date\", mode=\"REQUIRED\"),\n",
    "    bigquery.SchemaField(\"open\", \"float\", mode=\"REQUIRED\"),\n",
    "    bigquery.SchemaField(\"high\", \"float\", mode=\"REQUIRED\"),\n",
    "    bigquery.SchemaField(\"low\", \"float\", mode=\"REQUIRED\"),\n",
    "    bigquery.SchemaField(\"close\", \"float\", mode=\"REQUIRED\"),\n",
    "    bigquery.SchemaField(\"volume\", \"integer\", mode=\"REQUIRED\"),\n",
    "    bigquery.SchemaField(\"day\", \"integer\", mode=\"REQUIRED\"),\n",
    "    bigquery.SchemaField(\"month\", \"integer\", mode=\"REQUIRED\"),\n",
    "    bigquery.SchemaField(\"year\", \"integer\", mode=\"REQUIRED\"),\n",
    "]\n",
    "\n",
    "table = bigquery.Table(table_id, schema=schema)\n",
    "table = client.create_table(table, exists_ok=True)  # Make an API request.\n",
    "print(\n",
    "    \"Created table {}.{}.{}\".format(table.project, table.dataset_id, table.table_id)\n",
    ")"
   ]
  },
  {
   "cell_type": "code",
   "execution_count": 33,
   "metadata": {},
   "outputs": [],
   "source": [
    "TABLE_ID = 'historial_stock_prices'\n",
    "\n",
    "table_name = f\"{PROJECT_ID}.{DATASET_ID}.{TABLE_ID}\"\n",
    "schema = schema\n",
    "load_table(df, client, table_name, schema)"
   ]
  }
 ],
 "metadata": {
  "kernelspec": {
   "display_name": "venv",
   "language": "python",
   "name": "python3"
  },
  "language_info": {
   "codemirror_mode": {
    "name": "ipython",
    "version": 3
   },
   "file_extension": ".py",
   "mimetype": "text/x-python",
   "name": "python",
   "nbconvert_exporter": "python",
   "pygments_lexer": "ipython3",
   "version": "3.8.10"
  },
  "orig_nbformat": 4
 },
 "nbformat": 4,
 "nbformat_minor": 2
}
